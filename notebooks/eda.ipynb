{
 "cells": [
  {
   "cell_type": "code",
   "execution_count": 1,
   "id": "0bfdb0d4-1110-4d6c-a773-88ef40dc83ac",
   "metadata": {},
   "outputs": [],
   "source": [
    "from pathlib import Path\n",
    "\n",
    "import pandas as pd\n",
    "from sklearn.feature_extraction import DictVectorizer\n",
    "import seaborn as sns\n",
    "from matplotlib import pyplot as plt"
   ]
  },
  {
   "cell_type": "code",
   "execution_count": 2,
   "id": "306ab52b-504e-445f-a915-4c62858410c4",
   "metadata": {},
   "outputs": [],
   "source": [
    "DATA_DIR = Path(\"/Users/rgareev/data/ny-tlc/src\")\n",
    "train_path = DATA_DIR / \"fhv_tripdata_2021-01.parquet\"\n",
    "validation_path = DATA_DIR / \"fhv_tripdata_2021-02.parquet\""
   ]
  },
  {
   "cell_type": "code",
   "execution_count": 3,
   "id": "6d4cfc3b-2fa8-4857-bfa5-156cd6e4ec7f",
   "metadata": {},
   "outputs": [
    {
     "name": "stdout",
     "output_type": "stream",
     "text": [
      "total 44032\n",
      "drwxr-xr-x  4 rgareev  staff       128 May 22 16:00 \u001b[1m\u001b[36m.\u001b[m\u001b[m\n",
      "drwxr-xr-x  3 rgareev  staff        96 May 22 16:00 \u001b[1m\u001b[36m..\u001b[m\u001b[m\n",
      "-rw-r--r--@ 1 rgareev  staff  11886281 May 20 16:39 fhv_tripdata_2021-01.parquet\n",
      "-rw-r--r--@ 1 rgareev  staff  10645466 May 20 16:39 fhv_tripdata_2021-02.parquet\n"
     ]
    }
   ],
   "source": [
    "!ls -al $DATA_DIR"
   ]
  },
  {
   "cell_type": "code",
   "execution_count": 4,
   "id": "a3731b7d-ceaa-45cb-bcef-0650064c61ad",
   "metadata": {},
   "outputs": [],
   "source": [
    "src_train_df = pd.read_parquet(train_path)"
   ]
  },
  {
   "cell_type": "code",
   "execution_count": 5,
   "id": "175a4343-d52a-4d51-b5ca-0906f4f77f34",
   "metadata": {},
   "outputs": [
    {
     "name": "stdout",
     "output_type": "stream",
     "text": [
      "<class 'pandas.core.frame.DataFrame'>\n",
      "RangeIndex: 1154112 entries, 0 to 1154111\n",
      "Data columns (total 7 columns):\n",
      " #   Column                  Non-Null Count    Dtype         \n",
      "---  ------                  --------------    -----         \n",
      " 0   dispatching_base_num    1154112 non-null  object        \n",
      " 1   pickup_datetime         1154112 non-null  datetime64[ns]\n",
      " 2   dropOff_datetime        1154112 non-null  datetime64[ns]\n",
      " 3   PUlocationID            195845 non-null   float64       \n",
      " 4   DOlocationID            991892 non-null   float64       \n",
      " 5   SR_Flag                 0 non-null        object        \n",
      " 6   Affiliated_base_number  1153227 non-null  object        \n",
      "dtypes: datetime64[ns](2), float64(2), object(3)\n",
      "memory usage: 200.6 MB\n"
     ]
    }
   ],
   "source": [
    "src_train_df.info(memory_usage='deep')"
   ]
  },
  {
   "cell_type": "code",
   "execution_count": 6,
   "id": "1b1cd6e9-dd24-4923-898c-1efe181465be",
   "metadata": {},
   "outputs": [
    {
     "data": {
      "text/html": [
       "<div>\n",
       "<style scoped>\n",
       "    .dataframe tbody tr th:only-of-type {\n",
       "        vertical-align: middle;\n",
       "    }\n",
       "\n",
       "    .dataframe tbody tr th {\n",
       "        vertical-align: top;\n",
       "    }\n",
       "\n",
       "    .dataframe thead th {\n",
       "        text-align: right;\n",
       "    }\n",
       "</style>\n",
       "<table border=\"1\" class=\"dataframe\">\n",
       "  <thead>\n",
       "    <tr style=\"text-align: right;\">\n",
       "      <th></th>\n",
       "      <th>dispatching_base_num</th>\n",
       "      <th>pickup_datetime</th>\n",
       "      <th>dropOff_datetime</th>\n",
       "      <th>PUlocationID</th>\n",
       "      <th>DOlocationID</th>\n",
       "      <th>SR_Flag</th>\n",
       "      <th>Affiliated_base_number</th>\n",
       "    </tr>\n",
       "  </thead>\n",
       "  <tbody>\n",
       "    <tr>\n",
       "      <th>1152860</th>\n",
       "      <td>B01231</td>\n",
       "      <td>2021-01-31 22:23:01</td>\n",
       "      <td>2021-01-31 22:48:30</td>\n",
       "      <td>NaN</td>\n",
       "      <td>17.0</td>\n",
       "      <td>None</td>\n",
       "      <td>B02887</td>\n",
       "    </tr>\n",
       "    <tr>\n",
       "      <th>227761</th>\n",
       "      <td>B01899</td>\n",
       "      <td>2021-01-07 14:40:14</td>\n",
       "      <td>2021-01-07 14:58:55</td>\n",
       "      <td>NaN</td>\n",
       "      <td>NaN</td>\n",
       "      <td>None</td>\n",
       "      <td>B01899</td>\n",
       "    </tr>\n",
       "    <tr>\n",
       "      <th>167887</th>\n",
       "      <td>B03060</td>\n",
       "      <td>2021-01-06 08:28:25</td>\n",
       "      <td>2021-01-06 09:38:37</td>\n",
       "      <td>NaN</td>\n",
       "      <td>55.0</td>\n",
       "      <td>None</td>\n",
       "      <td>B03060</td>\n",
       "    </tr>\n",
       "    <tr>\n",
       "      <th>698692</th>\n",
       "      <td>B02846</td>\n",
       "      <td>2021-01-20 08:12:56</td>\n",
       "      <td>2021-01-20 09:19:00</td>\n",
       "      <td>NaN</td>\n",
       "      <td>147.0</td>\n",
       "      <td>None</td>\n",
       "      <td>B02846</td>\n",
       "    </tr>\n",
       "    <tr>\n",
       "      <th>1012059</th>\n",
       "      <td>B01061</td>\n",
       "      <td>2021-01-28 08:22:08</td>\n",
       "      <td>2021-01-28 08:35:33</td>\n",
       "      <td>NaN</td>\n",
       "      <td>250.0</td>\n",
       "      <td>None</td>\n",
       "      <td>B01061</td>\n",
       "    </tr>\n",
       "    <tr>\n",
       "      <th>234068</th>\n",
       "      <td>B01087</td>\n",
       "      <td>2021-01-07 17:02:05</td>\n",
       "      <td>2021-01-07 17:14:02</td>\n",
       "      <td>230.0</td>\n",
       "      <td>236.0</td>\n",
       "      <td>None</td>\n",
       "      <td>B01087</td>\n",
       "    </tr>\n",
       "    <tr>\n",
       "      <th>982340</th>\n",
       "      <td>B01231</td>\n",
       "      <td>2021-01-27 12:09:06</td>\n",
       "      <td>2021-01-27 12:23:16</td>\n",
       "      <td>NaN</td>\n",
       "      <td>36.0</td>\n",
       "      <td>None</td>\n",
       "      <td>B02883</td>\n",
       "    </tr>\n",
       "    <tr>\n",
       "      <th>844105</th>\n",
       "      <td>B01239</td>\n",
       "      <td>2021-01-23 19:06:46</td>\n",
       "      <td>2021-01-23 19:28:37</td>\n",
       "      <td>NaN</td>\n",
       "      <td>167.0</td>\n",
       "      <td>None</td>\n",
       "      <td>B01239</td>\n",
       "    </tr>\n",
       "    <tr>\n",
       "      <th>973420</th>\n",
       "      <td>B02550</td>\n",
       "      <td>2021-01-27 09:03:04</td>\n",
       "      <td>2021-01-27 09:12:39</td>\n",
       "      <td>NaN</td>\n",
       "      <td>177.0</td>\n",
       "      <td>None</td>\n",
       "      <td>B02550</td>\n",
       "    </tr>\n",
       "    <tr>\n",
       "      <th>51909</th>\n",
       "      <td>B01231</td>\n",
       "      <td>2021-01-02 23:04:25</td>\n",
       "      <td>2021-01-02 23:07:05</td>\n",
       "      <td>NaN</td>\n",
       "      <td>17.0</td>\n",
       "      <td>None</td>\n",
       "      <td>B02918</td>\n",
       "    </tr>\n",
       "  </tbody>\n",
       "</table>\n",
       "</div>"
      ],
      "text/plain": [
       "        dispatching_base_num     pickup_datetime    dropOff_datetime  \\\n",
       "1152860               B01231 2021-01-31 22:23:01 2021-01-31 22:48:30   \n",
       "227761                B01899 2021-01-07 14:40:14 2021-01-07 14:58:55   \n",
       "167887                B03060 2021-01-06 08:28:25 2021-01-06 09:38:37   \n",
       "698692                B02846 2021-01-20 08:12:56 2021-01-20 09:19:00   \n",
       "1012059               B01061 2021-01-28 08:22:08 2021-01-28 08:35:33   \n",
       "234068                B01087 2021-01-07 17:02:05 2021-01-07 17:14:02   \n",
       "982340                B01231 2021-01-27 12:09:06 2021-01-27 12:23:16   \n",
       "844105                B01239 2021-01-23 19:06:46 2021-01-23 19:28:37   \n",
       "973420                B02550 2021-01-27 09:03:04 2021-01-27 09:12:39   \n",
       "51909                 B01231 2021-01-02 23:04:25 2021-01-02 23:07:05   \n",
       "\n",
       "         PUlocationID  DOlocationID SR_Flag Affiliated_base_number  \n",
       "1152860           NaN          17.0    None                 B02887  \n",
       "227761            NaN           NaN    None                 B01899  \n",
       "167887            NaN          55.0    None                 B03060  \n",
       "698692            NaN         147.0    None                 B02846  \n",
       "1012059           NaN         250.0    None                 B01061  \n",
       "234068          230.0         236.0    None                 B01087  \n",
       "982340            NaN          36.0    None                 B02883  \n",
       "844105            NaN         167.0    None                 B01239  \n",
       "973420            NaN         177.0    None                 B02550  \n",
       "51909             NaN          17.0    None                 B02918  "
      ]
     },
     "execution_count": 6,
     "metadata": {},
     "output_type": "execute_result"
    }
   ],
   "source": [
    "src_train_df.sample(10)"
   ]
  },
  {
   "cell_type": "code",
   "execution_count": 7,
   "id": "a5c0deb7-feb5-45e7-9f79-15ae0391809e",
   "metadata": {},
   "outputs": [],
   "source": [
    "CATEGORICAL = ['PUlocationID', 'DOlocationID']\n",
    "TARGET_COL = 'duration'\n",
    "FEATURE_COLS = CATEGORICAL"
   ]
  },
  {
   "cell_type": "code",
   "execution_count": 10,
   "id": "d348b845-21a0-4926-98c4-147f2f5bfc6b",
   "metadata": {},
   "outputs": [],
   "source": [
    "def prepare_data(src_df):\n",
    "    src_df['duration'] = src_df.dropOff_datetime - src_df.pickup_datetime\n",
    "    src_df.duration = src_df.duration / pd.Timedelta(1, 'sec') / 60\n",
    "    print(\"Duration (minutes):\", src_df.duration.describe(), sep='\\n')\n",
    "    df = src_df[(src_df.duration >= 1) & (src_df.duration <= 60)].copy()\n",
    "    print(f\"Dropped {src_df.shape[0] - df.shape[0]} rows\")\n",
    "    print(\"Missing values: \", df.isna().mean(), sep='\\n')\n",
    "    df.PUlocationID.fillna(-1, inplace=True)\n",
    "    df.DOlocationID.fillna(-1, inplace=True)\n",
    "    df[CATEGORICAL] = df[CATEGORICAL].astype(str)\n",
    "    return df[FEATURE_COLS + [TARGET_COL]]"
   ]
  },
  {
   "cell_type": "code",
   "execution_count": 11,
   "id": "bdfe02f2-ca14-43c4-b858-7572ba1dbf38",
   "metadata": {},
   "outputs": [
    {
     "name": "stdout",
     "output_type": "stream",
     "text": [
      "Duration (minutes):\n",
      "count    1.154112e+06\n",
      "mean     1.916722e+01\n",
      "std      3.986922e+02\n",
      "min      1.666667e-02\n",
      "25%      7.766667e+00\n",
      "50%      1.340000e+01\n",
      "75%      2.228333e+01\n",
      "max      4.233710e+05\n",
      "Name: duration, dtype: float64\n",
      "Dropped 44286 rows\n",
      "Missing values: \n",
      "dispatching_base_num      0.000000\n",
      "pickup_datetime           0.000000\n",
      "dropOff_datetime          0.000000\n",
      "PUlocationID              0.835273\n",
      "DOlocationID              0.133270\n",
      "SR_Flag                   1.000000\n",
      "Affiliated_base_number    0.000697\n",
      "duration                  0.000000\n",
      "dtype: float64\n",
      "<class 'pandas.core.frame.DataFrame'>\n",
      "Int64Index: 1109826 entries, 0 to 1154111\n",
      "Data columns (total 3 columns):\n",
      " #   Column        Non-Null Count    Dtype  \n",
      "---  ------        --------------    -----  \n",
      " 0   PUlocationID  1109826 non-null  object \n",
      " 1   DOlocationID  1109826 non-null  object \n",
      " 2   duration      1109826 non-null  float64\n",
      "dtypes: float64(1), object(2)\n",
      "memory usage: 33.9+ MB\n"
     ]
    }
   ],
   "source": [
    "train_df = prepare_data(src_train_df)\n",
    "train_df.info()"
   ]
  },
  {
   "cell_type": "code",
   "execution_count": 12,
   "id": "77407164-20dd-48e2-ad0c-06666c3a8713",
   "metadata": {},
   "outputs": [
    {
     "data": {
      "text/html": [
       "<div>\n",
       "<style scoped>\n",
       "    .dataframe tbody tr th:only-of-type {\n",
       "        vertical-align: middle;\n",
       "    }\n",
       "\n",
       "    .dataframe tbody tr th {\n",
       "        vertical-align: top;\n",
       "    }\n",
       "\n",
       "    .dataframe thead th {\n",
       "        text-align: right;\n",
       "    }\n",
       "</style>\n",
       "<table border=\"1\" class=\"dataframe\">\n",
       "  <thead>\n",
       "    <tr style=\"text-align: right;\">\n",
       "      <th></th>\n",
       "      <th>PUlocationID</th>\n",
       "      <th>DOlocationID</th>\n",
       "      <th>duration</th>\n",
       "    </tr>\n",
       "  </thead>\n",
       "  <tbody>\n",
       "    <tr>\n",
       "      <th>37410</th>\n",
       "      <td>-1.0</td>\n",
       "      <td>69.0</td>\n",
       "      <td>26.633333</td>\n",
       "    </tr>\n",
       "    <tr>\n",
       "      <th>151180</th>\n",
       "      <td>-1.0</td>\n",
       "      <td>227.0</td>\n",
       "      <td>38.116667</td>\n",
       "    </tr>\n",
       "    <tr>\n",
       "      <th>957256</th>\n",
       "      <td>-1.0</td>\n",
       "      <td>165.0</td>\n",
       "      <td>18.866667</td>\n",
       "    </tr>\n",
       "    <tr>\n",
       "      <th>837051</th>\n",
       "      <td>-1.0</td>\n",
       "      <td>147.0</td>\n",
       "      <td>21.850000</td>\n",
       "    </tr>\n",
       "    <tr>\n",
       "      <th>1134652</th>\n",
       "      <td>-1.0</td>\n",
       "      <td>242.0</td>\n",
       "      <td>12.416667</td>\n",
       "    </tr>\n",
       "    <tr>\n",
       "      <th>25816</th>\n",
       "      <td>-1.0</td>\n",
       "      <td>20.0</td>\n",
       "      <td>14.216667</td>\n",
       "    </tr>\n",
       "    <tr>\n",
       "      <th>270299</th>\n",
       "      <td>-1.0</td>\n",
       "      <td>11.0</td>\n",
       "      <td>25.916667</td>\n",
       "    </tr>\n",
       "    <tr>\n",
       "      <th>837720</th>\n",
       "      <td>-1.0</td>\n",
       "      <td>168.0</td>\n",
       "      <td>20.700000</td>\n",
       "    </tr>\n",
       "    <tr>\n",
       "      <th>810641</th>\n",
       "      <td>122.0</td>\n",
       "      <td>129.0</td>\n",
       "      <td>20.183333</td>\n",
       "    </tr>\n",
       "    <tr>\n",
       "      <th>213929</th>\n",
       "      <td>92.0</td>\n",
       "      <td>10.0</td>\n",
       "      <td>25.183333</td>\n",
       "    </tr>\n",
       "  </tbody>\n",
       "</table>\n",
       "</div>"
      ],
      "text/plain": [
       "        PUlocationID DOlocationID   duration\n",
       "37410           -1.0         69.0  26.633333\n",
       "151180          -1.0        227.0  38.116667\n",
       "957256          -1.0        165.0  18.866667\n",
       "837051          -1.0        147.0  21.850000\n",
       "1134652         -1.0        242.0  12.416667\n",
       "25816           -1.0         20.0  14.216667\n",
       "270299          -1.0         11.0  25.916667\n",
       "837720          -1.0        168.0  20.700000\n",
       "810641         122.0        129.0  20.183333\n",
       "213929          92.0         10.0  25.183333"
      ]
     },
     "execution_count": 12,
     "metadata": {},
     "output_type": "execute_result"
    }
   ],
   "source": [
    "train_df.sample(10)"
   ]
  },
  {
   "cell_type": "code",
   "execution_count": 18,
   "id": "1f5216c7-5b5c-41d0-a005-c101a3b4bc97",
   "metadata": {},
   "outputs": [],
   "source": [
    "src_valid_df = pd.read_parquet(validation_path)"
   ]
  },
  {
   "cell_type": "code",
   "execution_count": 19,
   "id": "8f0f778b-3a70-4a07-9591-036bbe6fe802",
   "metadata": {},
   "outputs": [
    {
     "name": "stdout",
     "output_type": "stream",
     "text": [
      "Duration (minutes):\n",
      "count    1.037692e+06\n",
      "mean     2.070699e+01\n",
      "std      1.611084e+02\n",
      "min      1.666667e-02\n",
      "25%      8.000000e+00\n",
      "50%      1.410000e+01\n",
      "75%      2.373333e+01\n",
      "max      1.109190e+05\n",
      "Name: duration, dtype: float64\n",
      "Dropped 47579 rows\n",
      "Missing values: \n",
      "dispatching_base_num      0.000000\n",
      "pickup_datetime           0.000000\n",
      "dropOff_datetime          0.000000\n",
      "PUlocationID              0.857135\n",
      "DOlocationID              0.136106\n",
      "SR_Flag                   1.000000\n",
      "Affiliated_base_number    0.000000\n",
      "duration                  0.000000\n",
      "dtype: float64\n"
     ]
    }
   ],
   "source": [
    "valid_df = prepare_data(src_valid_df)"
   ]
  },
  {
   "cell_type": "markdown",
   "id": "162b3f1c-d228-47bd-b0fb-637f984237fa",
   "metadata": {},
   "source": [
    "## Extract features"
   ]
  },
  {
   "cell_type": "code",
   "execution_count": 13,
   "id": "3271afb4-d079-47bd-af1f-d8913c88ece7",
   "metadata": {},
   "outputs": [],
   "source": [
    "oh_encoder = DictVectorizer()"
   ]
  },
  {
   "cell_type": "code",
   "execution_count": 15,
   "id": "f451e38c-79b3-455d-baa5-7026d4cfa9e3",
   "metadata": {},
   "outputs": [
    {
     "data": {
      "text/html": [
       "<style>#sk-container-id-1 {color: black;background-color: white;}#sk-container-id-1 pre{padding: 0;}#sk-container-id-1 div.sk-toggleable {background-color: white;}#sk-container-id-1 label.sk-toggleable__label {cursor: pointer;display: block;width: 100%;margin-bottom: 0;padding: 0.3em;box-sizing: border-box;text-align: center;}#sk-container-id-1 label.sk-toggleable__label-arrow:before {content: \"▸\";float: left;margin-right: 0.25em;color: #696969;}#sk-container-id-1 label.sk-toggleable__label-arrow:hover:before {color: black;}#sk-container-id-1 div.sk-estimator:hover label.sk-toggleable__label-arrow:before {color: black;}#sk-container-id-1 div.sk-toggleable__content {max-height: 0;max-width: 0;overflow: hidden;text-align: left;background-color: #f0f8ff;}#sk-container-id-1 div.sk-toggleable__content pre {margin: 0.2em;color: black;border-radius: 0.25em;background-color: #f0f8ff;}#sk-container-id-1 input.sk-toggleable__control:checked~div.sk-toggleable__content {max-height: 200px;max-width: 100%;overflow: auto;}#sk-container-id-1 input.sk-toggleable__control:checked~label.sk-toggleable__label-arrow:before {content: \"▾\";}#sk-container-id-1 div.sk-estimator input.sk-toggleable__control:checked~label.sk-toggleable__label {background-color: #d4ebff;}#sk-container-id-1 div.sk-label input.sk-toggleable__control:checked~label.sk-toggleable__label {background-color: #d4ebff;}#sk-container-id-1 input.sk-hidden--visually {border: 0;clip: rect(1px 1px 1px 1px);clip: rect(1px, 1px, 1px, 1px);height: 1px;margin: -1px;overflow: hidden;padding: 0;position: absolute;width: 1px;}#sk-container-id-1 div.sk-estimator {font-family: monospace;background-color: #f0f8ff;border: 1px dotted black;border-radius: 0.25em;box-sizing: border-box;margin-bottom: 0.5em;}#sk-container-id-1 div.sk-estimator:hover {background-color: #d4ebff;}#sk-container-id-1 div.sk-parallel-item::after {content: \"\";width: 100%;border-bottom: 1px solid gray;flex-grow: 1;}#sk-container-id-1 div.sk-label:hover label.sk-toggleable__label {background-color: #d4ebff;}#sk-container-id-1 div.sk-serial::before {content: \"\";position: absolute;border-left: 1px solid gray;box-sizing: border-box;top: 0;bottom: 0;left: 50%;z-index: 0;}#sk-container-id-1 div.sk-serial {display: flex;flex-direction: column;align-items: center;background-color: white;padding-right: 0.2em;padding-left: 0.2em;position: relative;}#sk-container-id-1 div.sk-item {position: relative;z-index: 1;}#sk-container-id-1 div.sk-parallel {display: flex;align-items: stretch;justify-content: center;background-color: white;position: relative;}#sk-container-id-1 div.sk-item::before, #sk-container-id-1 div.sk-parallel-item::before {content: \"\";position: absolute;border-left: 1px solid gray;box-sizing: border-box;top: 0;bottom: 0;left: 50%;z-index: -1;}#sk-container-id-1 div.sk-parallel-item {display: flex;flex-direction: column;z-index: 1;position: relative;background-color: white;}#sk-container-id-1 div.sk-parallel-item:first-child::after {align-self: flex-end;width: 50%;}#sk-container-id-1 div.sk-parallel-item:last-child::after {align-self: flex-start;width: 50%;}#sk-container-id-1 div.sk-parallel-item:only-child::after {width: 0;}#sk-container-id-1 div.sk-dashed-wrapped {border: 1px dashed gray;margin: 0 0.4em 0.5em 0.4em;box-sizing: border-box;padding-bottom: 0.4em;background-color: white;}#sk-container-id-1 div.sk-label label {font-family: monospace;font-weight: bold;display: inline-block;line-height: 1.2em;}#sk-container-id-1 div.sk-label-container {text-align: center;}#sk-container-id-1 div.sk-container {/* jupyter's `normalize.less` sets `[hidden] { display: none; }` but bootstrap.min.css set `[hidden] { display: none !important; }` so we also need the `!important` here to be able to override the default hidden behavior on the sphinx rendered scikit-learn.org. See: https://github.com/scikit-learn/scikit-learn/issues/21755 */display: inline-block !important;position: relative;}#sk-container-id-1 div.sk-text-repr-fallback {display: none;}</style><div id=\"sk-container-id-1\" class=\"sk-top-container\"><div class=\"sk-text-repr-fallback\"><pre>DictVectorizer()</pre><b>In a Jupyter environment, please rerun this cell to show the HTML representation or trust the notebook. <br />On GitHub, the HTML representation is unable to render, please try loading this page with nbviewer.org.</b></div><div class=\"sk-container\" hidden><div class=\"sk-item\"><div class=\"sk-estimator sk-toggleable\"><input class=\"sk-toggleable__control sk-hidden--visually\" id=\"sk-estimator-id-1\" type=\"checkbox\" checked><label for=\"sk-estimator-id-1\" class=\"sk-toggleable__label sk-toggleable__label-arrow\">DictVectorizer</label><div class=\"sk-toggleable__content\"><pre>DictVectorizer()</pre></div></div></div></div></div>"
      ],
      "text/plain": [
       "DictVectorizer()"
      ]
     },
     "execution_count": 15,
     "metadata": {},
     "output_type": "execute_result"
    }
   ],
   "source": [
    "oh_encoder.fit(train_df[FEATURE_COLS].to_dict('records'))"
   ]
  },
  {
   "cell_type": "code",
   "execution_count": 16,
   "id": "73ece22e-c265-4d67-89b7-0e54cb05a44b",
   "metadata": {},
   "outputs": [],
   "source": [
    "X_train = oh_encoder.transform(train_df[FEATURE_COLS].to_dict('records'))"
   ]
  },
  {
   "cell_type": "code",
   "execution_count": 17,
   "id": "c6f5d011-b7b9-4434-a284-9d8f548af7ba",
   "metadata": {},
   "outputs": [
    {
     "data": {
      "text/plain": [
       "(1109826, 525)"
      ]
     },
     "execution_count": 17,
     "metadata": {},
     "output_type": "execute_result"
    }
   ],
   "source": [
    "X_train.shape"
   ]
  },
  {
   "cell_type": "code",
   "execution_count": 20,
   "id": "0a7cf5c3-f99d-46aa-b305-20daca88ed51",
   "metadata": {},
   "outputs": [
    {
     "data": {
      "text/plain": [
       "(990113, 525)"
      ]
     },
     "execution_count": 20,
     "metadata": {},
     "output_type": "execute_result"
    }
   ],
   "source": [
    "X_valid = oh_encoder.transform(valid_df[FEATURE_COLS].to_dict('records'))\n",
    "X_valid.shape"
   ]
  },
  {
   "cell_type": "markdown",
   "id": "18f783bb-62c8-4328-919a-2609ecbbce7c",
   "metadata": {},
   "source": [
    "## Extract labels"
   ]
  },
  {
   "cell_type": "code",
   "execution_count": 21,
   "id": "68f91f01-e29b-4d99-9492-45f763cce876",
   "metadata": {},
   "outputs": [],
   "source": [
    "y_train = train_df[TARGET_COL]\n",
    "y_valid = valid_df[TARGET_COL]"
   ]
  },
  {
   "cell_type": "markdown",
   "id": "5420edb0-7b48-4712-a63f-ce6fbd77b66a",
   "metadata": {},
   "source": [
    "# Train"
   ]
  },
  {
   "cell_type": "code",
   "execution_count": 22,
   "id": "cdcbe495-e464-447d-9edb-d9e945b44c39",
   "metadata": {},
   "outputs": [],
   "source": [
    "from sklearn.linear_model import LinearRegression\n",
    "from sklearn.metrics import mean_squared_error\n",
    "\n",
    "rmse = lambda y_true, y_pred: mean_squared_error(y_true, y_pred, squared=False)"
   ]
  },
  {
   "cell_type": "code",
   "execution_count": 23,
   "id": "ca4eb284-b69c-484f-a547-938c6de273e0",
   "metadata": {},
   "outputs": [],
   "source": [
    "lr = LinearRegression()"
   ]
  },
  {
   "cell_type": "code",
   "execution_count": 24,
   "id": "c4800346-050e-4b79-8d76-0986c40af679",
   "metadata": {},
   "outputs": [
    {
     "name": "stdout",
     "output_type": "stream",
     "text": [
      "CPU times: user 46.5 s, sys: 11.3 s, total: 57.9 s\n",
      "Wall time: 9.94 s\n"
     ]
    },
    {
     "data": {
      "text/html": [
       "<style>#sk-container-id-2 {color: black;background-color: white;}#sk-container-id-2 pre{padding: 0;}#sk-container-id-2 div.sk-toggleable {background-color: white;}#sk-container-id-2 label.sk-toggleable__label {cursor: pointer;display: block;width: 100%;margin-bottom: 0;padding: 0.3em;box-sizing: border-box;text-align: center;}#sk-container-id-2 label.sk-toggleable__label-arrow:before {content: \"▸\";float: left;margin-right: 0.25em;color: #696969;}#sk-container-id-2 label.sk-toggleable__label-arrow:hover:before {color: black;}#sk-container-id-2 div.sk-estimator:hover label.sk-toggleable__label-arrow:before {color: black;}#sk-container-id-2 div.sk-toggleable__content {max-height: 0;max-width: 0;overflow: hidden;text-align: left;background-color: #f0f8ff;}#sk-container-id-2 div.sk-toggleable__content pre {margin: 0.2em;color: black;border-radius: 0.25em;background-color: #f0f8ff;}#sk-container-id-2 input.sk-toggleable__control:checked~div.sk-toggleable__content {max-height: 200px;max-width: 100%;overflow: auto;}#sk-container-id-2 input.sk-toggleable__control:checked~label.sk-toggleable__label-arrow:before {content: \"▾\";}#sk-container-id-2 div.sk-estimator input.sk-toggleable__control:checked~label.sk-toggleable__label {background-color: #d4ebff;}#sk-container-id-2 div.sk-label input.sk-toggleable__control:checked~label.sk-toggleable__label {background-color: #d4ebff;}#sk-container-id-2 input.sk-hidden--visually {border: 0;clip: rect(1px 1px 1px 1px);clip: rect(1px, 1px, 1px, 1px);height: 1px;margin: -1px;overflow: hidden;padding: 0;position: absolute;width: 1px;}#sk-container-id-2 div.sk-estimator {font-family: monospace;background-color: #f0f8ff;border: 1px dotted black;border-radius: 0.25em;box-sizing: border-box;margin-bottom: 0.5em;}#sk-container-id-2 div.sk-estimator:hover {background-color: #d4ebff;}#sk-container-id-2 div.sk-parallel-item::after {content: \"\";width: 100%;border-bottom: 1px solid gray;flex-grow: 1;}#sk-container-id-2 div.sk-label:hover label.sk-toggleable__label {background-color: #d4ebff;}#sk-container-id-2 div.sk-serial::before {content: \"\";position: absolute;border-left: 1px solid gray;box-sizing: border-box;top: 0;bottom: 0;left: 50%;z-index: 0;}#sk-container-id-2 div.sk-serial {display: flex;flex-direction: column;align-items: center;background-color: white;padding-right: 0.2em;padding-left: 0.2em;position: relative;}#sk-container-id-2 div.sk-item {position: relative;z-index: 1;}#sk-container-id-2 div.sk-parallel {display: flex;align-items: stretch;justify-content: center;background-color: white;position: relative;}#sk-container-id-2 div.sk-item::before, #sk-container-id-2 div.sk-parallel-item::before {content: \"\";position: absolute;border-left: 1px solid gray;box-sizing: border-box;top: 0;bottom: 0;left: 50%;z-index: -1;}#sk-container-id-2 div.sk-parallel-item {display: flex;flex-direction: column;z-index: 1;position: relative;background-color: white;}#sk-container-id-2 div.sk-parallel-item:first-child::after {align-self: flex-end;width: 50%;}#sk-container-id-2 div.sk-parallel-item:last-child::after {align-self: flex-start;width: 50%;}#sk-container-id-2 div.sk-parallel-item:only-child::after {width: 0;}#sk-container-id-2 div.sk-dashed-wrapped {border: 1px dashed gray;margin: 0 0.4em 0.5em 0.4em;box-sizing: border-box;padding-bottom: 0.4em;background-color: white;}#sk-container-id-2 div.sk-label label {font-family: monospace;font-weight: bold;display: inline-block;line-height: 1.2em;}#sk-container-id-2 div.sk-label-container {text-align: center;}#sk-container-id-2 div.sk-container {/* jupyter's `normalize.less` sets `[hidden] { display: none; }` but bootstrap.min.css set `[hidden] { display: none !important; }` so we also need the `!important` here to be able to override the default hidden behavior on the sphinx rendered scikit-learn.org. See: https://github.com/scikit-learn/scikit-learn/issues/21755 */display: inline-block !important;position: relative;}#sk-container-id-2 div.sk-text-repr-fallback {display: none;}</style><div id=\"sk-container-id-2\" class=\"sk-top-container\"><div class=\"sk-text-repr-fallback\"><pre>LinearRegression()</pre><b>In a Jupyter environment, please rerun this cell to show the HTML representation or trust the notebook. <br />On GitHub, the HTML representation is unable to render, please try loading this page with nbviewer.org.</b></div><div class=\"sk-container\" hidden><div class=\"sk-item\"><div class=\"sk-estimator sk-toggleable\"><input class=\"sk-toggleable__control sk-hidden--visually\" id=\"sk-estimator-id-2\" type=\"checkbox\" checked><label for=\"sk-estimator-id-2\" class=\"sk-toggleable__label sk-toggleable__label-arrow\">LinearRegression</label><div class=\"sk-toggleable__content\"><pre>LinearRegression()</pre></div></div></div></div></div>"
      ],
      "text/plain": [
       "LinearRegression()"
      ]
     },
     "execution_count": 24,
     "metadata": {},
     "output_type": "execute_result"
    }
   ],
   "source": [
    "%%time\n",
    "lr.fit(X_train, y_train)"
   ]
  },
  {
   "cell_type": "code",
   "execution_count": 25,
   "id": "dfe1e250-94a8-4cfb-a6d3-5bd7362f00f3",
   "metadata": {},
   "outputs": [
    {
     "data": {
      "text/plain": [
       "10.52851910721245"
      ]
     },
     "execution_count": 25,
     "metadata": {},
     "output_type": "execute_result"
    }
   ],
   "source": [
    "y_train_pred = lr.predict(X_train)\n",
    "rmse(y_train, y_train_pred)"
   ]
  },
  {
   "cell_type": "code",
   "execution_count": 27,
   "id": "71bded5f-5e41-472e-84db-9bebf729b2b6",
   "metadata": {},
   "outputs": [
    {
     "data": {
      "text/plain": [
       "<seaborn.axisgrid.FacetGrid at 0x140424f70>"
      ]
     },
     "execution_count": 27,
     "metadata": {},
     "output_type": "execute_result"
    },
    {
     "data": {
      "image/png": "[encoded data removed]",
      "text/plain": [
       "<Figure size 443.375x360 with 1 Axes>"
      ]
     },
     "metadata": {
      "needs_background": "light"
     },
     "output_type": "display_data"
    }
   ],
   "source": [
    "sns.displot(pd.DataFrame({'actual' : y_train, 'predicted' : y_train_pred}))"
   ]
  },
  {
   "cell_type": "markdown",
   "id": "873e0715-4a17-417a-9d1f-a11920dc9b42",
   "metadata": {},
   "source": [
    "# Evaluate"
   ]
  },
  {
   "cell_type": "code",
   "execution_count": 28,
   "id": "645427c1-df75-4d97-a0d6-658d6869b790",
   "metadata": {},
   "outputs": [
    {
     "data": {
      "text/plain": [
       "11.0142832180344"
      ]
     },
     "execution_count": 28,
     "metadata": {},
     "output_type": "execute_result"
    }
   ],
   "source": [
    "y_valid_pred = lr.predict(X_valid)\n",
    "rmse(y_valid, y_valid_pred)"
   ]
  },
  {
   "cell_type": "code",
   "execution_count": 29,
   "id": "63760706-a283-4cde-833b-2d01fbbb1548",
   "metadata": {},
   "outputs": [
    {
     "data": {
      "text/plain": [
       "<seaborn.axisgrid.FacetGrid at 0x14cd94eb0>"
      ]
     },
     "execution_count": 29,
     "metadata": {},
     "output_type": "execute_result"
    },
    {
     "data": {
      "image/png": "[encoded data removed]",
      "text/plain": [
       "<Figure size 616.125x500 with 1 Axes>"
      ]
     },
     "metadata": {},
     "output_type": "display_data"
    }
   ],
   "source": [
    "sns.displot(pd.DataFrame({'actual' : y_valid, 'predicted' : y_valid_pred}))"
   ]
  }
 ],
 "metadata": {
  "kernelspec": {
   "display_name": "MLOps ZooCamp",
   "language": "python",
   "name": "mlops-zoocamp-notebooks"
  },
  "language_info": {
   "codemirror_mode": {
    "name": "ipython",
    "version": 3
   },
   "file_extension": ".py",
   "mimetype": "text/x-python",
   "name": "python",
   "nbconvert_exporter": "python",
   "pygments_lexer": "ipython3",
   "version": "3.9.7"
  }
 },
 "nbformat": 4,
 "nbformat_minor": 5
}
