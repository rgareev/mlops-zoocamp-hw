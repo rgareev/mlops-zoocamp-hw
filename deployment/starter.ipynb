{
 "cells": [
  {
   "cell_type": "code",
   "execution_count": 1,
   "id": "2c51efaa",
   "metadata": {},
   "outputs": [
    {
     "name": "stdout",
     "output_type": "stream",
     "text": [
      "scikit-learn==1.0.2\n"
     ]
    }
   ],
   "source": [
    "!pip freeze | grep scikit-learn"
   ]
  },
  {
   "cell_type": "code",
   "execution_count": 3,
   "id": "0ef880a0",
   "metadata": {},
   "outputs": [],
   "source": [
    "import pickle\n",
    "from pathlib import Path\n",
    "\n",
    "import pandas as pd"
   ]
  },
  {
   "cell_type": "code",
   "execution_count": 4,
   "id": "7836ccfd",
   "metadata": {},
   "outputs": [],
   "source": [
    "with open('model.bin', 'rb') as f_in:\n",
    "    dv, lr = pickle.load(f_in)"
   ]
  },
  {
   "cell_type": "code",
   "execution_count": 5,
   "id": "41c08294",
   "metadata": {},
   "outputs": [],
   "source": [
    "categorical = ['PUlocationID', 'DOlocationID']\n",
    "\n",
    "def read_data(filename):\n",
    "    df = pd.read_parquet(filename)\n",
    "    \n",
    "    df['duration'] = df.dropOff_datetime - df.pickup_datetime\n",
    "    df['duration'] = df.duration.dt.total_seconds() / 60\n",
    "\n",
    "    df = df[(df.duration >= 1) & (df.duration <= 60)].copy()\n",
    "\n",
    "    df[categorical] = df[categorical].fillna(-1).astype('int').astype('str')\n",
    "    \n",
    "    return df"
   ]
  },
  {
   "cell_type": "code",
   "execution_count": 7,
   "id": "4854399a",
   "metadata": {},
   "outputs": [],
   "source": [
    "df = read_data(\"/Users/rgareev/data/ny-tlc/src/fhv_tripdata_2021-02.parquet\")"
   ]
  },
  {
   "cell_type": "code",
   "execution_count": 8,
   "id": "669fda0a",
   "metadata": {},
   "outputs": [],
   "source": [
    "dicts = df[categorical].to_dict(orient='records')\n",
    "X_val = dv.transform(dicts)\n",
    "y_pred = lr.predict(X_val)"
   ]
  },
  {
   "cell_type": "code",
   "execution_count": 9,
   "id": "054410a1",
   "metadata": {},
   "outputs": [
    {
     "data": {
      "text/plain": [
       "16.191691679979066"
      ]
     },
     "execution_count": 9,
     "metadata": {},
     "output_type": "execute_result"
    }
   ],
   "source": [
    "y_pred.mean()"
   ]
  },
  {
   "cell_type": "markdown",
   "id": "cdca2cab",
   "metadata": {},
   "source": [
    "# Q2"
   ]
  },
  {
   "cell_type": "code",
   "execution_count": 10,
   "id": "ed1fb7ca",
   "metadata": {},
   "outputs": [],
   "source": [
    "df['predicted_duration'] = y_pred"
   ]
  },
  {
   "cell_type": "code",
   "execution_count": 11,
   "id": "5b07cbe8",
   "metadata": {},
   "outputs": [],
   "source": [
    "df['ride_id'] =  df.pickup_datetime.apply(lambda dt: f'{dt.year:04d}/{dt.month:02d}_') + df.index.astype('str')"
   ]
  },
  {
   "cell_type": "code",
   "execution_count": 12,
   "id": "c58ada62",
   "metadata": {},
   "outputs": [
    {
     "data": {
      "text/html": [
       "<div>\n",
       "<style scoped>\n",
       "    .dataframe tbody tr th:only-of-type {\n",
       "        vertical-align: middle;\n",
       "    }\n",
       "\n",
       "    .dataframe tbody tr th {\n",
       "        vertical-align: top;\n",
       "    }\n",
       "\n",
       "    .dataframe thead th {\n",
       "        text-align: right;\n",
       "    }\n",
       "</style>\n",
       "<table border=\"1\" class=\"dataframe\">\n",
       "  <thead>\n",
       "    <tr style=\"text-align: right;\">\n",
       "      <th></th>\n",
       "      <th>dispatching_base_num</th>\n",
       "      <th>pickup_datetime</th>\n",
       "      <th>dropOff_datetime</th>\n",
       "      <th>PUlocationID</th>\n",
       "      <th>DOlocationID</th>\n",
       "      <th>SR_Flag</th>\n",
       "      <th>Affiliated_base_number</th>\n",
       "      <th>duration</th>\n",
       "      <th>predicted_duration</th>\n",
       "      <th>ride_id</th>\n",
       "    </tr>\n",
       "  </thead>\n",
       "  <tbody>\n",
       "    <tr>\n",
       "      <th>649751</th>\n",
       "      <td>B00112</td>\n",
       "      <td>2021-02-18 18:06:57</td>\n",
       "      <td>2021-02-18 18:33:06</td>\n",
       "      <td>-1</td>\n",
       "      <td>14</td>\n",
       "      <td>None</td>\n",
       "      <td>B00112</td>\n",
       "      <td>26.150000</td>\n",
       "      <td>13.910644</td>\n",
       "      <td>2021/02_649751</td>\n",
       "    </tr>\n",
       "    <tr>\n",
       "      <th>1010652</th>\n",
       "      <td>B02536</td>\n",
       "      <td>2021-02-28 00:06:38</td>\n",
       "      <td>2021-02-28 00:16:02</td>\n",
       "      <td>108</td>\n",
       "      <td>-1</td>\n",
       "      <td>None</td>\n",
       "      <td>B02536</td>\n",
       "      <td>9.400000</td>\n",
       "      <td>20.235869</td>\n",
       "      <td>2021/02_1010652</td>\n",
       "    </tr>\n",
       "    <tr>\n",
       "      <th>290967</th>\n",
       "      <td>B00160</td>\n",
       "      <td>2021-02-09 15:24:00</td>\n",
       "      <td>2021-02-09 15:31:00</td>\n",
       "      <td>-1</td>\n",
       "      <td>-1</td>\n",
       "      <td>None</td>\n",
       "      <td>B00160</td>\n",
       "      <td>7.000000</td>\n",
       "      <td>23.052085</td>\n",
       "      <td>2021/02_290967</td>\n",
       "    </tr>\n",
       "    <tr>\n",
       "      <th>259543</th>\n",
       "      <td>B01509</td>\n",
       "      <td>2021-02-08 21:53:28</td>\n",
       "      <td>2021-02-08 22:04:00</td>\n",
       "      <td>-1</td>\n",
       "      <td>29</td>\n",
       "      <td>None</td>\n",
       "      <td>B01509</td>\n",
       "      <td>10.533333</td>\n",
       "      <td>19.562814</td>\n",
       "      <td>2021/02_259543</td>\n",
       "    </tr>\n",
       "    <tr>\n",
       "      <th>16963</th>\n",
       "      <td>B01231</td>\n",
       "      <td>2021-02-02 10:29:27</td>\n",
       "      <td>2021-02-02 10:39:21</td>\n",
       "      <td>-1</td>\n",
       "      <td>17</td>\n",
       "      <td>None</td>\n",
       "      <td>B02682</td>\n",
       "      <td>9.900000</td>\n",
       "      <td>11.536334</td>\n",
       "      <td>2021/02_16963</td>\n",
       "    </tr>\n",
       "    <tr>\n",
       "      <th>192921</th>\n",
       "      <td>B01051</td>\n",
       "      <td>2021-02-06 22:57:42</td>\n",
       "      <td>2021-02-06 23:09:03</td>\n",
       "      <td>-1</td>\n",
       "      <td>47</td>\n",
       "      <td>None</td>\n",
       "      <td>B01051</td>\n",
       "      <td>11.350000</td>\n",
       "      <td>13.300669</td>\n",
       "      <td>2021/02_192921</td>\n",
       "    </tr>\n",
       "    <tr>\n",
       "      <th>396035</th>\n",
       "      <td>B01233</td>\n",
       "      <td>2021-02-12 06:39:23</td>\n",
       "      <td>2021-02-12 07:00:41</td>\n",
       "      <td>-1</td>\n",
       "      <td>174</td>\n",
       "      <td>None</td>\n",
       "      <td>B01233</td>\n",
       "      <td>21.300000</td>\n",
       "      <td>14.787019</td>\n",
       "      <td>2021/02_396035</td>\n",
       "    </tr>\n",
       "    <tr>\n",
       "      <th>778875</th>\n",
       "      <td>B01231</td>\n",
       "      <td>2021-02-22 12:03:01</td>\n",
       "      <td>2021-02-22 12:04:02</td>\n",
       "      <td>-1</td>\n",
       "      <td>217</td>\n",
       "      <td>None</td>\n",
       "      <td>B02918</td>\n",
       "      <td>1.016667</td>\n",
       "      <td>7.924538</td>\n",
       "      <td>2021/02_778875</td>\n",
       "    </tr>\n",
       "    <tr>\n",
       "      <th>49463</th>\n",
       "      <td>B01231</td>\n",
       "      <td>2021-02-03 10:36:43</td>\n",
       "      <td>2021-02-03 10:47:41</td>\n",
       "      <td>-1</td>\n",
       "      <td>17</td>\n",
       "      <td>None</td>\n",
       "      <td>B01231</td>\n",
       "      <td>10.966667</td>\n",
       "      <td>11.536334</td>\n",
       "      <td>2021/02_49463</td>\n",
       "    </tr>\n",
       "    <tr>\n",
       "      <th>143330</th>\n",
       "      <td>B01239</td>\n",
       "      <td>2021-02-05 13:45:50</td>\n",
       "      <td>2021-02-05 13:50:01</td>\n",
       "      <td>-1</td>\n",
       "      <td>51</td>\n",
       "      <td>None</td>\n",
       "      <td>B02872</td>\n",
       "      <td>4.183333</td>\n",
       "      <td>12.448414</td>\n",
       "      <td>2021/02_143330</td>\n",
       "    </tr>\n",
       "  </tbody>\n",
       "</table>\n",
       "</div>"
      ],
      "text/plain": [
       "        dispatching_base_num     pickup_datetime    dropOff_datetime  \\\n",
       "649751                B00112 2021-02-18 18:06:57 2021-02-18 18:33:06   \n",
       "1010652               B02536 2021-02-28 00:06:38 2021-02-28 00:16:02   \n",
       "290967                B00160 2021-02-09 15:24:00 2021-02-09 15:31:00   \n",
       "259543                B01509 2021-02-08 21:53:28 2021-02-08 22:04:00   \n",
       "16963                 B01231 2021-02-02 10:29:27 2021-02-02 10:39:21   \n",
       "192921                B01051 2021-02-06 22:57:42 2021-02-06 23:09:03   \n",
       "396035                B01233 2021-02-12 06:39:23 2021-02-12 07:00:41   \n",
       "778875                B01231 2021-02-22 12:03:01 2021-02-22 12:04:02   \n",
       "49463                 B01231 2021-02-03 10:36:43 2021-02-03 10:47:41   \n",
       "143330                B01239 2021-02-05 13:45:50 2021-02-05 13:50:01   \n",
       "\n",
       "        PUlocationID DOlocationID SR_Flag Affiliated_base_number   duration  \\\n",
       "649751            -1           14    None                 B00112  26.150000   \n",
       "1010652          108           -1    None                 B02536   9.400000   \n",
       "290967            -1           -1    None                 B00160   7.000000   \n",
       "259543            -1           29    None                 B01509  10.533333   \n",
       "16963             -1           17    None                 B02682   9.900000   \n",
       "192921            -1           47    None                 B01051  11.350000   \n",
       "396035            -1          174    None                 B01233  21.300000   \n",
       "778875            -1          217    None                 B02918   1.016667   \n",
       "49463             -1           17    None                 B01231  10.966667   \n",
       "143330            -1           51    None                 B02872   4.183333   \n",
       "\n",
       "         predicted_duration          ride_id  \n",
       "649751            13.910644   2021/02_649751  \n",
       "1010652           20.235869  2021/02_1010652  \n",
       "290967            23.052085   2021/02_290967  \n",
       "259543            19.562814   2021/02_259543  \n",
       "16963             11.536334    2021/02_16963  \n",
       "192921            13.300669   2021/02_192921  \n",
       "396035            14.787019   2021/02_396035  \n",
       "778875             7.924538   2021/02_778875  \n",
       "49463             11.536334    2021/02_49463  \n",
       "143330            12.448414   2021/02_143330  "
      ]
     },
     "execution_count": 12,
     "metadata": {},
     "output_type": "execute_result"
    }
   ],
   "source": [
    "df.sample(10)"
   ]
  },
  {
   "cell_type": "code",
   "execution_count": 13,
   "id": "1245ed26",
   "metadata": {},
   "outputs": [],
   "source": [
    "output_dir = Path('./wrk')\n",
    "output_dir.mkdir(exist_ok=True, parents=True)"
   ]
  },
  {
   "cell_type": "code",
   "execution_count": 14,
   "id": "29bdbbcd",
   "metadata": {},
   "outputs": [],
   "source": [
    "output_path = output_dir / 'predictions.parquet'"
   ]
  },
  {
   "cell_type": "code",
   "execution_count": 15,
   "id": "0f48580e",
   "metadata": {},
   "outputs": [
    {
     "data": {
      "text/plain": [
       "ride_id                object\n",
       "predicted_duration    float64\n",
       "dtype: object"
      ]
     },
     "execution_count": 15,
     "metadata": {},
     "output_type": "execute_result"
    }
   ],
   "source": [
    "df[['ride_id', 'predicted_duration']].dtypes"
   ]
  },
  {
   "cell_type": "code",
   "execution_count": 16,
   "id": "3714dafe",
   "metadata": {},
   "outputs": [],
   "source": [
    "df[['ride_id', 'predicted_duration']].to_parquet(\n",
    "    output_path,\n",
    "    engine='pyarrow',\n",
    "    compression=None,\n",
    "    index=False\n",
    ")"
   ]
  },
  {
   "cell_type": "code",
   "execution_count": 17,
   "id": "850cb9ce",
   "metadata": {},
   "outputs": [
    {
     "name": "stdout",
     "output_type": "stream",
     "text": [
      "total 38920\n",
      "drwxr-xr-x  3 rgareev  staff        96 Jun 26 22:51 \u001b[1m\u001b[36m.\u001b[m\u001b[m\n",
      "drwxr-xr-x  8 rgareev  staff       256 Jun 27 11:16 \u001b[1m\u001b[36m..\u001b[m\u001b[m\n",
      "-rw-r--r--  1 rgareev  staff  19711507 Jun 27 11:17 predictions.parquet\n"
     ]
    }
   ],
   "source": [
    "!ls -al wrk"
   ]
  },
  {
   "cell_type": "code",
   "execution_count": null,
   "id": "4f22a471",
   "metadata": {},
   "outputs": [],
   "source": []
  }
 ],
 "metadata": {
  "kernelspec": {
   "display_name": "Python 3.9.13 ('deployment-tNfZh-t2')",
   "language": "python",
   "name": "python3"
  },
  "language_info": {
   "codemirror_mode": {
    "name": "ipython",
    "version": 3
   },
   "file_extension": ".py",
   "mimetype": "text/x-python",
   "name": "python",
   "nbconvert_exporter": "python",
   "pygments_lexer": "ipython3",
   "version": "3.9.13"
  },
  "vscode": {
   "interpreter": {
    "hash": "f1b9a683ac021a53a30299b3b7ab8df6ae17614b02efd5f764098cc9d66d831b"
   }
  }
 },
 "nbformat": 4,
 "nbformat_minor": 5
}
